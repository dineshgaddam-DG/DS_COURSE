{
 "cells": [
  {
   "cell_type": "markdown",
   "id": "bf7c1eed-13cc-4b2a-8fea-71802d25123e",
   "metadata": {},
   "source": [
    "Q1. You are writing code for a company. The requirement of the company is that you create a python\n",
    "function that will check whether the password entered by the user is correct or not. The function should\n",
    "take the password as input and return the string “Valid Password” if the entered password follows the\n",
    "below-given password guidelines else it should return “Invalid Password”.\n",
    "\n",
    "Note: 1. The Password should contain at least two uppercase letters and at least two lowercase letters.\n",
    "2. The Password should contain at least a number and three special characters.\n",
    "3. The length of the password should be 10 characters long."
   ]
  },
  {
   "cell_type": "code",
   "execution_count": 5,
   "id": "e46afb1e-ddb4-45e4-9557-83012d329318",
   "metadata": {},
   "outputs": [],
   "source": [
    "def password_validator(password):\n",
    "    uc,lc,spc,nc,l=0,0,0,0,len(password)\n",
    "    if l<10:\n",
    "        return False\n",
    "    for x in password:\n",
    "        if x.isupper():\n",
    "            uc+=1\n",
    "        elif x.islower():\n",
    "            lc+=1\n",
    "        elif x.isnumeric():\n",
    "            nc+=1\n",
    "        else:\n",
    "            spc+=1\n",
    "    if uc>=2 and lc>=2 and nc>=1 and spc>=3:\n",
    "        return True\n",
    "    else:\n",
    "        return False"
   ]
  },
  {
   "cell_type": "code",
   "execution_count": 8,
   "id": "822a72e4-e50e-48bd-b4a2-3774909a5f28",
   "metadata": {},
   "outputs": [
    {
     "name": "stdin",
     "output_type": "stream",
     "text": [
      " w232wQwe@#EW#@Aepwqe\n"
     ]
    },
    {
     "name": "stdout",
     "output_type": "stream",
     "text": [
      "Valid\n"
     ]
    }
   ],
   "source": [
    "# Example Testcases.\n",
    "'''\n",
    "1.qWeRtY@#$123\n",
    "'''\n",
    "if password_validator(input()):\n",
    "    print('Valid')\n",
    "else:\n",
    "    print('Not Valid')"
   ]
  },
  {
   "cell_type": "markdown",
   "id": "fa2635aa-e0ef-4d04-937f-74251fbc4a89",
   "metadata": {},
   "source": [
    "Q2. Solve the below-given questions using at least one of the following:\n",
    "1. Lambda function\n",
    "2. Filter function\n",
    "3. Zap function\n",
    "4. List ComprehensioIn\n",
    "B Check if the string starts with a particular letterY\n",
    "B Check if the string is numericY\n",
    "B Sort a list of tuples having fruit names and their quantity. [(\"mango\",99),(\"orange\",80), (\"grapes\", 1000)-\n",
    "B Find the squares of numbers from 1 to 10Y\n",
    "B Find the cube root of numbers from 1 to 10Y\n",
    "B Check if a given number is evenY\n",
    "B Filter odd numbers from the given list.\n",
    "[1,2,3,4,5,6,7,8,9,10-\n",
    "B Sort a list of integers into positive and negative integers lists.\n",
    "[1,2,3,4,5,6,-1,-2,-3,-4,-5,0]"
   ]
  },
  {
   "cell_type": "code",
   "execution_count": 11,
   "id": "4cd1ac3a-83fe-465c-9114-8a5f3911d276",
   "metadata": {},
   "outputs": [
    {
     "name": "stdin",
     "output_type": "stream",
     "text": [
      " c\n"
     ]
    }
   ],
   "source": [
    "# checking for a string starting with particular letter\n",
    "\n",
    "letter=input()[0]\n",
    "checker=(lambda x:x[0]==letter)"
   ]
  },
  {
   "cell_type": "code",
   "execution_count": 13,
   "id": "d04b99a7-8280-4def-8f96-c13951a60d93",
   "metadata": {},
   "outputs": [
    {
     "data": {
      "text/plain": [
       "True"
      ]
     },
     "execution_count": 13,
     "metadata": {},
     "output_type": "execute_result"
    }
   ],
   "source": [
    "checker('chennai')"
   ]
  },
  {
   "cell_type": "code",
   "execution_count": 14,
   "id": "1f5a0098-1acf-4424-8193-1ea73d5c2f5f",
   "metadata": {},
   "outputs": [
    {
     "name": "stdout",
     "output_type": "stream",
     "text": [
      "False\n",
      "True\n"
     ]
    }
   ],
   "source": [
    "#check if string is numberic.\n",
    "\n",
    "num_check=lambda x:x.isnumeric()\n",
    "\n",
    "print(num_check('dlsaj'))\n",
    "print(num_check('322'))"
   ]
  },
  {
   "cell_type": "code",
   "execution_count": 15,
   "id": "b507a6f4-e8cc-4b97-870d-22e8879f23e7",
   "metadata": {},
   "outputs": [],
   "source": [
    "# sorting list.\n",
    "a=[(\"mango\",99),(\"orange\",80), (\"grapes\", 1000)]\n",
    "a.sort(key=lambda x:[x[1],x[0]])"
   ]
  },
  {
   "cell_type": "code",
   "execution_count": 16,
   "id": "d03b9c1f-0b40-46c9-bfd3-ef7cd08525f8",
   "metadata": {},
   "outputs": [
    {
     "data": {
      "text/plain": [
       "[('orange', 80), ('mango', 99), ('grapes', 1000)]"
      ]
     },
     "execution_count": 16,
     "metadata": {},
     "output_type": "execute_result"
    }
   ],
   "source": [
    "a"
   ]
  },
  {
   "cell_type": "code",
   "execution_count": 17,
   "id": "03f35a1c-754d-4ea4-a435-f5a9b3befc3a",
   "metadata": {},
   "outputs": [],
   "source": [
    "# square of first 10 numbers.\n",
    "\n",
    "nums1=[i for i in range(1,11)]\n",
    "nums_sq=list(map(lambda x:x**2,nums1))"
   ]
  },
  {
   "cell_type": "code",
   "execution_count": 18,
   "id": "333309ea-875d-4981-9a20-119b876f299b",
   "metadata": {},
   "outputs": [
    {
     "data": {
      "text/plain": [
       "[1, 4, 9, 16, 25, 36, 49, 64, 81, 100]"
      ]
     },
     "execution_count": 18,
     "metadata": {},
     "output_type": "execute_result"
    }
   ],
   "source": [
    "nums_sq"
   ]
  },
  {
   "cell_type": "code",
   "execution_count": 19,
   "id": "0361ceaa-ef15-4021-af32-898281e9e986",
   "metadata": {},
   "outputs": [
    {
     "name": "stdout",
     "output_type": "stream",
     "text": [
      "[1, 8, 27, 64, 125, 216, 343, 512, 729, 1000]\n"
     ]
    }
   ],
   "source": [
    "nums_cube=list(map(lambda x:x**3,nums1))\n",
    "print(nums_cube)"
   ]
  },
  {
   "cell_type": "code",
   "execution_count": 20,
   "id": "b870dfe9-8c49-4f42-a40e-8f18160c5a53",
   "metadata": {},
   "outputs": [
    {
     "name": "stdin",
     "output_type": "stream",
     "text": [
      " 12\n"
     ]
    },
    {
     "name": "stdout",
     "output_type": "stream",
     "text": [
      "Even\n"
     ]
    }
   ],
   "source": [
    "#check if given num is even.\n",
    "\n",
    "num=int(input())\n",
    "if num&1==1:\n",
    "    print('Odd')\n",
    "else:\n",
    "    print('Even')"
   ]
  },
  {
   "cell_type": "code",
   "execution_count": 21,
   "id": "789fa2e3-5cad-4f6f-a854-5c6c84c43e4c",
   "metadata": {},
   "outputs": [],
   "source": [
    "# Find odd numbers from list\n",
    "b=[1,2,3,4,5,6,7,8,9,10]\n",
    "res=list(filter(lambda x:x%2!=0,b))"
   ]
  },
  {
   "cell_type": "code",
   "execution_count": 22,
   "id": "66c2e203-703d-4eae-b2a7-bbc6a231429f",
   "metadata": {},
   "outputs": [
    {
     "data": {
      "text/plain": [
       "[1, 3, 5, 7, 9]"
      ]
     },
     "execution_count": 22,
     "metadata": {},
     "output_type": "execute_result"
    }
   ],
   "source": [
    "res"
   ]
  },
  {
   "cell_type": "code",
   "execution_count": 25,
   "id": "dc358faf-1fcd-4db5-8e3f-c796a63fe5f2",
   "metadata": {},
   "outputs": [],
   "source": [
    "d=[1,2,3,4,5,6,-1,-2,-3,-4,-5,0]\n",
    "pos,neg=d[:6],d[6:-1]"
   ]
  }
 ],
 "metadata": {
  "kernelspec": {
   "display_name": "Python 3 (ipykernel)",
   "language": "python",
   "name": "python3"
  },
  "language_info": {
   "codemirror_mode": {
    "name": "ipython",
    "version": 3
   },
   "file_extension": ".py",
   "mimetype": "text/x-python",
   "name": "python",
   "nbconvert_exporter": "python",
   "pygments_lexer": "ipython3",
   "version": "3.10.8"
  }
 },
 "nbformat": 4,
 "nbformat_minor": 5
}
