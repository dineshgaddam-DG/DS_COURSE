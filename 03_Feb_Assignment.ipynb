{
 "cells": [
  {
   "cell_type": "markdown",
   "id": "1e1984de",
   "metadata": {},
   "source": [
    "Q1. Which keyword is used to create a function? Create a function to return a list of odd numbers in the\n",
    "range of 1 to 25."
   ]
  },
  {
   "cell_type": "code",
   "execution_count": 25,
   "id": "8a39bfa8",
   "metadata": {},
   "outputs": [],
   "source": [
    "# def keyword is used to create a Function.\n",
    "\n",
    "#Function to return odd numbers in range [1,25)\n",
    "\n",
    "def foo():\n",
    "    res=[]\n",
    "    for i in range(1,25):\n",
    "        if i%2!=0:\n",
    "            res.append(i)\n",
    "    return res\n"
   ]
  },
  {
   "cell_type": "code",
   "execution_count": 26,
   "id": "7cac46f4",
   "metadata": {},
   "outputs": [
    {
     "data": {
      "text/plain": [
       "[1, 3, 5, 7, 9, 11, 13, 15, 17, 19, 21, 23]"
      ]
     },
     "execution_count": 26,
     "metadata": {},
     "output_type": "execute_result"
    }
   ],
   "source": [
    "foo()"
   ]
  },
  {
   "cell_type": "markdown",
   "id": "ed95c3e8",
   "metadata": {},
   "source": [
    "Q2. Why *args and **kwargs is used in some functions? Create a function each for *args and **kwargs to\n",
    "demonstrate their use."
   ]
  },
  {
   "cell_type": "code",
   "execution_count": 27,
   "id": "520f4b25",
   "metadata": {},
   "outputs": [
    {
     "name": "stdout",
     "output_type": "stream",
     "text": [
      "Multiple\n",
      "Arguments\n",
      "Passed\n",
      "---------------------------------------------------------\n",
      "first : Fval\n",
      "Second : Sval\n"
     ]
    }
   ],
   "source": [
    "'''\n",
    "*args and **kwargs are generally used for facilitating the flexibility of variable number of arguments to a function.\n",
    "\n",
    "*args - used for non-keyworded arguments\n",
    "\n",
    "**kwargs used for keyworded arguments\n",
    "\n",
    "'''\n",
    "\n",
    "# example for *args\n",
    "\n",
    "def args_example(*args):\n",
    "    for x in args:\n",
    "        print(x)\n",
    "\n",
    "args_example('Multiple','Arguments','Passed')\n",
    "\n",
    "\n",
    "print(\"---------------------------------------------------------\")\n",
    "# example for **kwargs\n",
    "\n",
    "def kwargs_example(**kwargs):\n",
    "    for x in kwargs:\n",
    "        print(x,\":\",kwargs[x])\n",
    "\n",
    "kwargs_example(first='Fval',Second='Sval')"
   ]
  },
  {
   "cell_type": "markdown",
   "id": "87799f52",
   "metadata": {},
   "source": [
    "What is an iterator in python? Name the method used to initialise the iterator object and the method\n",
    "used for iteration. Use these methods to print the first five elements of the given list [2, 4, 6, 8, 10, 12, 14, 16,\n",
    "18, 20]."
   ]
  },
  {
   "cell_type": "code",
   "execution_count": 28,
   "id": "21f2f46f",
   "metadata": {},
   "outputs": [
    {
     "name": "stdout",
     "output_type": "stream",
     "text": [
      "2\n",
      "4\n",
      "6\n",
      "8\n",
      "10\n"
     ]
    }
   ],
   "source": [
    "'''\n",
    "Iterators allow lazy evaluation, only generating the next element of an iterable object when requested. \n",
    "\n",
    "It is initialised through iter(), and accessing of next element is done with the help of next()\n",
    "\n",
    "'''\n",
    "a=[2, 4, 6, 8, 10, 12, 14, 16,18, 20]\n",
    "\n",
    "count=0\n",
    "it=iter(a)\n",
    "\n",
    "while count<5:\n",
    "    print(next(it))\n",
    "    count+=1"
   ]
  },
  {
   "cell_type": "markdown",
   "id": "f9668a8a",
   "metadata": {},
   "source": [
    "Q4. What is a generator function in python? Why yield keyword is used? Give an example of a generator\n",
    "function."
   ]
  },
  {
   "cell_type": "code",
   "execution_count": 30,
   "id": "54cb2b64",
   "metadata": {},
   "outputs": [],
   "source": [
    "'''\n",
    " Generator Function is similiar to a normal function but it returns a generator object.\n",
    "\n",
    " Yield Keyword is similiar to return. It returns the value to generator object and function execution resumes after that unlike return keyword.\n",
    " \n",
    "'''\n",
    "\n",
    "def first_20_even():\n",
    "    count=0\n",
    "    i=0\n",
    "    while count<20:\n",
    "        if i%2==0:\n",
    "            yield i\n",
    "            count+=1\n",
    "        i+=1\n"
   ]
  },
  {
   "cell_type": "code",
   "execution_count": 31,
   "id": "c3ee4acf",
   "metadata": {},
   "outputs": [
    {
     "data": {
      "text/plain": [
       "<generator object first_20_even at 0x0000022213B85B30>"
      ]
     },
     "execution_count": 31,
     "metadata": {},
     "output_type": "execute_result"
    }
   ],
   "source": [
    "first_20_even()"
   ]
  },
  {
   "cell_type": "code",
   "execution_count": 32,
   "id": "e4884e12",
   "metadata": {},
   "outputs": [
    {
     "name": "stdout",
     "output_type": "stream",
     "text": [
      "0 2 4 6 8 10 12 14 16 18 20 22 24 26 28 30 32 34 36 38 "
     ]
    }
   ],
   "source": [
    "for x in first_20_even():\n",
    "    print(x,end=\" \")"
   ]
  },
  {
   "cell_type": "markdown",
   "id": "636d94fa",
   "metadata": {},
   "source": [
    "Q5. Create a generator function for prime numbers less than 1000. Use the next() method to print the\n",
    "first 20 prime numbers."
   ]
  },
  {
   "cell_type": "code",
   "execution_count": 37,
   "id": "7ef69933",
   "metadata": {},
   "outputs": [],
   "source": [
    "def gen_prime():\n",
    "    for i in range(2,1000):\n",
    "        c=False\n",
    "        for j in range(2,i):\n",
    "            if i%j==0:\n",
    "                c=True\n",
    "                break\n",
    "        if not c:\n",
    "            yield i"
   ]
  },
  {
   "cell_type": "code",
   "execution_count": 42,
   "id": "f81ebaf6",
   "metadata": {},
   "outputs": [],
   "source": [
    "it=iter(gen_prime())"
   ]
  },
  {
   "cell_type": "code",
   "execution_count": 43,
   "id": "01a103ce",
   "metadata": {},
   "outputs": [
    {
     "name": "stdout",
     "output_type": "stream",
     "text": [
      "2 3 5 7 11 13 17 19 23 29 31 37 41 43 47 53 59 61 67 71 73 79 83 89 97 101 103 107 109 113 127 131 137 139 149 151 157 163 167 173 179 181 191 193 197 199 211 223 227 229 233 239 241 251 257 263 269 271 277 281 283 293 307 311 313 317 331 337 347 349 353 359 367 373 379 383 389 397 401 409 419 421 431 433 439 443 449 457 461 463 467 479 487 491 499 503 509 521 523 541 547 557 563 569 571 577 587 593 599 601 607 613 617 619 631 641 643 647 653 659 661 673 677 683 691 701 709 719 727 733 739 743 751 757 761 769 773 787 797 809 811 821 823 827 829 839 853 857 859 863 877 881 883 887 907 911 919 929 937 941 947 953 967 971 977 983 991 997 "
     ]
    }
   ],
   "source": [
    "while True:\n",
    "    try:\n",
    "        print(next(it),end=\" \")\n",
    "    except:\n",
    "        break"
   ]
  }
 ],
 "metadata": {
  "kernelspec": {
   "display_name": "Python 3 (ipykernel)",
   "language": "python",
   "name": "python3"
  },
  "language_info": {
   "codemirror_mode": {
    "name": "ipython",
    "version": 3
   },
   "file_extension": ".py",
   "mimetype": "text/x-python",
   "name": "python",
   "nbconvert_exporter": "python",
   "pygments_lexer": "ipython3",
   "version": "3.9.13"
  }
 },
 "nbformat": 4,
 "nbformat_minor": 5
}
